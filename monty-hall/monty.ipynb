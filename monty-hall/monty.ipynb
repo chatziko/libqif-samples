{
 "metadata": {
  "language_info": {
   "codemirror_mode": {
    "name": "ipython",
    "version": 3
   },
   "file_extension": ".py",
   "mimetype": "text/x-python",
   "name": "python",
   "nbconvert_exporter": "python",
   "pygments_lexer": "ipython3",
   "version": "3.8.5-final"
  },
  "orig_nbformat": 2,
  "kernelspec": {
   "name": "python3",
   "display_name": "Python 3",
   "language": "python"
  }
 },
 "nbformat": 4,
 "nbformat_minor": 2,
 "cells": [
  {
   "source": [
    "# A QIF analysis of Monty Hall\n",
    "\n",
    "![](monty.png)\n",
    "\n",
    "\n",
    "We play a game in which a prize is hidden behind one of three closed doors (the other two contain a goat).\n",
    "- We choose one door,\n",
    "- then the host opens a door __containing a goat__, among the two non-chosen ones.\n",
    "- After seeing the goat we have the right to change our initial guess.\n",
    "\n",
    "Should we?\n",
    "\n",
    "How much information does this system leak?\n",
    "\n",
    "A detailed description of the problem and its history can be found [here](https://en.wikipedia.org/wiki/Monty_Hall_problem)."
   ],
   "cell_type": "markdown",
   "metadata": {}
  },
  {
   "cell_type": "code",
   "execution_count": 1,
   "metadata": {},
   "outputs": [],
   "source": [
    "import numpy as np\n",
    "import qif"
   ]
  },
  {
   "source": [
    "The secret in this system is the door in which the prize is hidden (0, 1 or 2).\n",
    "\n",
    "Assuming the door containing the prize is chosen uniformly at random, before we start the game we have 1/3 chances of guessing the secret correctly."
   ],
   "cell_type": "markdown",
   "metadata": {}
  },
  {
   "cell_type": "code",
   "execution_count": 11,
   "metadata": {},
   "outputs": [
    {
     "output_type": "stream",
     "name": "stdout",
     "text": [
      "Prior Bayes vulnerability 0.3333333333333333\n"
     ]
    }
   ],
   "source": [
    "pi = qif.probab.uniform(3)\n",
    "\n",
    "print(\"Prior Bayes vulnerability\", qif.measure.bayes_vuln.prior(pi))"
   ]
  },
  {
   "source": [
    "We can model the game as the following channel `A`.\n",
    "- __Input__: the door containing the prize (0,1 or 2)\n",
    "- __Output__: the player's choice __and__ the door opened by the host.\n",
    "  Eg. the output `0:1` means that the player chose door 0, and the host opened door 1.\n",
    "\n",
    "The probabilities come directly from the rules of the game. Eg if the secret is `0`, the observation `1:0` can never happen because the host will never open the door containing the prize."
   ],
   "cell_type": "markdown",
   "metadata": {}
  },
  {
   "cell_type": "code",
   "execution_count": 3,
   "metadata": {},
   "outputs": [],
   "source": [
    "A = np.array([\n",
    "\t#0:1  0:2  1:0  1:2  2:0  2:1\n",
    "\t[1/6, 1/6,   0, 1/3,   0, 1/3],\t\t# door 0\n",
    "\t[  0, 1/3, 1/6, 1/6, 1/3,   0],\t\t# door 1\n",
    "\t[1/3,   0, 1/3,   0, 1/6, 1/6],\t\t# door 2\n",
    "])"
   ]
  },
  {
   "source": [
    "This system clearly leaks information, since we learn that the door opened by the host is not the one we want, now there are only 2 possible doors instead of 3.\n",
    "\n",
    "But is this __all__ we learn? Let compute the system's multiplicative Bayes leakage."
   ],
   "cell_type": "markdown",
   "metadata": {}
  },
  {
   "cell_type": "code",
   "execution_count": 16,
   "metadata": {},
   "outputs": [
    {
     "output_type": "stream",
     "name": "stdout",
     "text": [
      "Mult Bayes leakage 2.0\n"
     ]
    }
   ],
   "source": [
    "print(\"Mult Bayes leakage\", qif.measure.bayes_vuln.mult_leakage(pi, A))\n"
   ]
  },
  {
   "source": [
    "A multiplicative leakage of 2 means that our probability of guessing the secret __doubles__ as a result of observing the system's output.\n",
    "Before the observation it was \n",
    "\n",
    "\n",
    "The probability We can computet he probability of guessing correctly the secret after observing the output, which __turns out to be 2/3__!"
   ],
   "cell_type": "markdown",
   "metadata": {}
  },
  {
   "cell_type": "code",
   "execution_count": null,
   "metadata": {},
   "outputs": [],
   "source": [
    "print(\"Posterior Bayes vulnerability\", qif.measure.bayes_vuln.posterior(pi, A))"
   ]
  },
  {
   "source": [
    "To see why, we compute below the best guess for each observable output (called a \"strategy\").\n",
    "\n",
    "Let's consider the first output (`0:1`). Our best guess after seeing this output is the secret `2`.\n",
    "In other words, if we choose `0` and the hosts open the door `1`, it is best to change our\n",
    "guess and choose `2` instead.\n",
    "\n",
    "We notice that this is true for all observations `X:Y`. The best guess is the door that is different than both `X` and `Y`.\n"
   ],
   "cell_type": "markdown",
   "metadata": {}
  },
  {
   "cell_type": "code",
   "execution_count": 6,
   "metadata": {},
   "outputs": [
    {
     "output_type": "stream",
     "name": "stdout",
     "text": [
      "Best guessing strategy [2 1 2 0 1 0]\n"
     ]
    }
   ],
   "source": [
    "print(\"Best guessing strategy\", qif.measure.bayes_vuln.strategy(pi, A))"
   ]
  },
  {
   "source": [
    "We can also easily compute the posterior probability of guessing correctly via the channel's __capacity__.\n",
    "\n",
    "We know that:\n",
    "- The posterior vulnerability $V_b(\\pi, A)$ is equal to the prior vulnerability multiplied by the leakage $ \\mathcal{L}^\\times_b(\\pi, A)$.\n",
    "- For Bayes vulnerability, the capacity is given for the __uniform__ prior, so capacity and leakage coincide in our case.\n",
    "- The capacity is easily computed as the sum of the column maxima of the channel.\n",
    "\n",
    "So $V_b(\\pi, A) = V_b(\\pi) \\mathcal{L}^\\times_b(\\pi, A) =V_b(\\pi) \\mathcal{ML}_b^\\times(A)  = 2 \\cdot\\frac{1}{3} = \\frac{2}{3}$\n",
    "\n",
    "We verify this below."
   ],
   "cell_type": "markdown",
   "metadata": {}
  },
  {
   "cell_type": "code",
   "execution_count": 14,
   "metadata": {},
   "outputs": [
    {
     "output_type": "stream",
     "name": "stdout",
     "text": [
      "Mult Bayes capacity 2.0\nPrior vuln. * capacity 0.6666666666666666\n"
     ]
    }
   ],
   "source": [
    "capacity = qif.measure.bayes_vuln.mult_capacity(A)\n",
    "\n",
    "print(\"Mult Bayes capacity\", capacity)\n",
    "print(\"Prior vuln. * capacity\", qif.measure.bayes_vuln.prior(pi) * capacity)"
   ]
  },
  {
   "source": [
    "### The"
   ],
   "cell_type": "markdown",
   "metadata": {}
  },
  {
   "cell_type": "code",
   "execution_count": 10,
   "metadata": {},
   "outputs": [
    {
     "output_type": "stream",
     "name": "stdout",
     "text": [
      "Bayes vulnerability 0.5\nRefinement? True\n[[0. 1. 0.]\n [0. 0. 1.]\n [1. 0. 0.]\n [0. 0. 1.]\n [1. 0. 0.]\n [0. 1. 0.]]\nTrue\n"
     ]
    }
   ],
   "source": [
    "B = np.array([\n",
    "\t#?:0  ?:1  ?:2\n",
    "\t[  0, 1/2, 1/2],\t\t# door 0\n",
    "\t[1/2,   0, 1/2],\t\t# door 1\n",
    "\t[1/2, 1/2,   0],\t\t# door 2\n",
    "]);\n",
    "print(\"Bayes vulnerability\", qif.measure.bayes_vuln.posterior(pi, B))\n",
    "\n",
    "print(\"Refinement?\", qif.refinement.refined_by(A, B));\n",
    "\n",
    "R = qif.channel.factorize(B, A)\n",
    "print(R)\n",
    "print(np.all(A.dot(R) == B))"
   ]
  },
  {
   "cell_type": "code",
   "execution_count": null,
   "metadata": {},
   "outputs": [],
   "source": []
  }
 ]
}
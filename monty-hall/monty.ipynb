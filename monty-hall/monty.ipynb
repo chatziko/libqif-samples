{
 "cells": [
  {
   "cell_type": "markdown",
   "metadata": {},
   "source": [
    "# A QIF analysis of Monty Hall\n",
    "\n",
    "![](monty.png)\n",
    "\n",
    "\n",
    "We play a game in which a prize is hidden behind one of three closed doors (the other two contain a goat).\n",
    "- We choose one door,\n",
    "- then the host opens a door __containing a goat__, among the two non-chosen ones.\n",
    "- After seeing the goat we can either keep or change our initial guess.\n",
    "\n",
    "What should we do?\n",
    "\n",
    "How much information does this system leak?\n",
    "\n",
    "A detailed description of the problem and its history can be found [here](https://en.wikipedia.org/wiki/Monty_Hall_problem)."
   ]
  },
  {
   "cell_type": "code",
   "execution_count": 1,
   "metadata": {},
   "outputs": [],
   "source": [
    "import numpy as np\n",
    "import matplotlib.pyplot as plt\n",
    "try:\n",
    "    from qif import *\n",
    "except: # install qif if not available (for running in colab, etc)\n",
    "    import IPython; IPython.get_ipython().run_line_magic('pip', 'install qif')\n",
    "    from qif import *"
   ]
  },
  {
   "cell_type": "markdown",
   "metadata": {},
   "source": [
    "The secret in this system is the door in which the prize is hidden (0, 1 or 2).\n",
    "\n",
    "Assuming the door containing the prize is chosen uniformly at random, before we start the game we have 1/3 chances of guessing the secret correctly."
   ]
  },
  {
   "cell_type": "code",
   "execution_count": 2,
   "metadata": {},
   "outputs": [
    {
     "name": "stdout",
     "output_type": "stream",
     "text": [
      "Prior Bayes vulnerability:  0.3333333333333333\n"
     ]
    }
   ],
   "source": [
    "pi = probab.uniform(3)\n",
    "\n",
    "print(\"Prior Bayes vulnerability: \", measure.bayes_vuln.prior(pi))"
   ]
  },
  {
   "cell_type": "markdown",
   "metadata": {},
   "source": [
    "We can model the game as the channel $A$ given below.\n",
    "- __Input__: the door containing the prize (0,1 or 2)\n",
    "- __Output__: the player's choice __and__ the door opened by the host.\n",
    "  Eg. the output `0:1` means that the player chose door 0, and the host opened door 1.\n",
    "\n",
    "The probabilities come directly from the rules of the game. Eg, assume that the secret is `0`:\n",
    "- If the player choses the correct secret `0` the host can open either `1` or `2`, so `0:1` and `0:2` both have probability 1/6 (the host's choice is assumed to be random).\n",
    "- If the player choses something else, say `1`, then the host is forced to open `2`. So `1:2` has probability 1/3 while `1:0` has probability 0."
   ]
  },
  {
   "cell_type": "code",
   "execution_count": 3,
   "metadata": {},
   "outputs": [],
   "source": [
    "A = np.array([\n",
    "    #0:1  0:2  1:0  1:2  2:0  2:1\n",
    "    [1/6, 1/6,   0, 1/3,   0, 1/3],        # door 0\n",
    "    [  0, 1/3, 1/6, 1/6, 1/3,   0],        # door 1\n",
    "    [1/3,   0, 1/3,   0, 1/6, 1/6],        # door 2\n",
    "])"
   ]
  },
  {
   "cell_type": "markdown",
   "metadata": {},
   "source": [
    "This system clearly leaks information, since we learn that the door opened by the host is not the one with the prize. Now there are only 2 possible doors instead of 3.\n",
    "\n",
    "But __is this all__ we learn? Let's compute the system's multiplicative Bayes leakage."
   ]
  },
  {
   "cell_type": "code",
   "execution_count": 4,
   "metadata": {},
   "outputs": [
    {
     "name": "stdout",
     "output_type": "stream",
     "text": [
      "Mult Bayes leakage = 2.0\n"
     ]
    }
   ],
   "source": [
    "print(\"Mult Bayes leakage =\", measure.bayes_vuln.mult_leakage(pi, A))"
   ]
  },
  {
   "cell_type": "markdown",
   "metadata": {},
   "source": [
    "A multiplicative leakage of 2 means that our probability of guessing the secret __doubles__ as a result of observing the system's output.\n",
    "Before starting the game this probability was 1/3, so __now it becomes 2/3__!\n",
    "\n",
    "Indeed, this is verified by computing the posterior Bayes vulnerability:"
   ]
  },
  {
   "cell_type": "code",
   "execution_count": 5,
   "metadata": {},
   "outputs": [
    {
     "name": "stdout",
     "output_type": "stream",
     "text": [
      "Posterior Bayes vulnerability = 0.6666666666666666\n"
     ]
    }
   ],
   "source": [
    "print(\"Posterior Bayes vulnerability =\", measure.bayes_vuln.posterior(pi, A))"
   ]
  },
  {
   "cell_type": "markdown",
   "metadata": {},
   "source": [
    "This means that we can do better than blindly choosing one of the two remaning doors. To see this, we compute below the best guess for each observable output (called a \"strategy\").\n"
   ]
  },
  {
   "cell_type": "code",
   "execution_count": 6,
   "metadata": {},
   "outputs": [
    {
     "name": "stdout",
     "output_type": "stream",
     "text": [
      "Best guessing strategy = [2 1 2 0 1 0]\n"
     ]
    }
   ],
   "source": [
    "print(\"Best guessing strategy =\", measure.bayes_vuln.strategy(pi, A))"
   ]
  },
  {
   "cell_type": "markdown",
   "metadata": {
    "lines_to_next_cell": 0
   },
   "source": [
    "\n",
    "Consider the first output (0:1). The computed strategy suggests that our best guess after seeing this output is the secret `2`. In other words, if the initial choice is 0 and the host opens the door `1`, it is best to change our guess and choose `2` instead.\n",
    "\n",
    "Note that this is true for all observations `X:Y`. The best guess is the door that is different than both `X` and `Y`."
   ]
  },
  {
   "cell_type": "markdown",
   "metadata": {},
   "source": [
    "### Capacity\n",
    "\n",
    "An __upper bound__ on a system's leakage is given by its __capacity__,\n",
    "easily computed as the sum of the column maxima of the channel. Here the maximum of each column is 1/3, which means that the channel's capacity is 2.\n",
    "\n",
    "Note that the prior distribution in our game is __uniform__, and we know that the multiplicative Bayes capacity is achieved on a uniform prior, so\n",
    "in this case leakage and capacity coincide. This gives an easy way for computing the probability of winnning the game: we just need to mutliply\n",
    "the prior vulnerability and the capacity."
   ]
  },
  {
   "cell_type": "code",
   "execution_count": 7,
   "metadata": {},
   "outputs": [
    {
     "name": "stdout",
     "output_type": "stream",
     "text": [
      "Mult Bayes capacity: 2.0\n",
      "Posterior vuPrior vuln. * capacity: 0.6666666666666666\n"
     ]
    }
   ],
   "source": [
    "capacity = measure.bayes_vuln.mult_capacity(A)\n",
    "\n",
    "print(\"Mult Bayes capacity:\", capacity)\n",
    "print(\"Posterior vuPrior vuln. * capacity:\", measure.bayes_vuln.prior(pi) * capacity)"
   ]
  },
  {
   "cell_type": "markdown",
   "metadata": {},
   "source": [
    "### The case when the player's choice is unknown\n",
    "\n",
    "Imagine that we enter the room when the host has opened the door containing the goat, but we do not know which door the player chose. Is this variant different than the original game?\n",
    "\n",
    "We start by modelling the game as a smaller channel $B$ with 3 outputs `?:0`, `?:1` and `?:2`, where `?:0` means that the host opened door `0` but we do not know\n",
    "which door the player chose."
   ]
  },
  {
   "cell_type": "code",
   "execution_count": 8,
   "metadata": {},
   "outputs": [],
   "source": [
    "B = np.array([\n",
    "    #?:0  ?:1  ?:2\n",
    "    [  0, 1/2, 1/2],        # door 0\n",
    "    [1/2,   0, 1/2],        # door 1\n",
    "    [1/2, 1/2,   0],        # door 2\n",
    "]);"
   ]
  },
  {
   "cell_type": "markdown",
   "metadata": {},
   "source": [
    "Computing the system's leakage we find that it is in fact 3/2, smaller than before. In other words, our chances of winning become 1.5 times larger, from 1/3 to 1/2.\n",
    "\n",
    "Now essentially we only learn that the prize is in one of the two remaining doors, nothing more! Each door has 50% chance of containing the prize."
   ]
  },
  {
   "cell_type": "code",
   "execution_count": 9,
   "metadata": {
    "lines_to_next_cell": 1
   },
   "outputs": [
    {
     "name": "stdout",
     "output_type": "stream",
     "text": [
      "Mult Bayes leakage 1.5\n"
     ]
    }
   ],
   "source": [
    "print(\"Mult Bayes leakage\", measure.bayes_vuln.mult_leakage(pi, B))"
   ]
  },
  {
   "cell_type": "markdown",
   "metadata": {},
   "source": [
    "### Comparing the two systems\n",
    "\n",
    "We saw that system $B$ leaks less than $A$. The natural question then is, does this always happen or was it a \"coincidence\"?\n",
    "\n",
    "We can first compare the two systems on different priors. In the following we assume that door `0` has probability $p$ of contaning the prize, and\n",
    "the other two doors share the remaining $1-p$. Then we plot the posterior Bayes vulnerability as a function of $p$."
   ]
  },
  {
   "cell_type": "code",
   "execution_count": 10,
   "metadata": {},
   "outputs": [
    {
     "data": {
      "image/png": "[encoded data removed]",
      "text/plain": [
       "<Figure size 432x288 with 1 Axes>"
      ]
     },
     "metadata": {
      "needs_background": "light"
     },
     "output_type": "display_data"
    }
   ],
   "source": [
    "def get_pi(p):\n",
    "    return np.array([p, (1-p)/2, (1-p)/2])\n",
    "\n",
    "ps = np.linspace(0, 1, 100)\n",
    "plt.plot(ps, [measure.bayes_vuln.posterior(get_pi(p), A) for p in ps], label=\"A\")\n",
    "plt.plot(ps, [measure.bayes_vuln.posterior(get_pi(p), B) for p in ps], label=\"B\")\n",
    "plt.xlabel('p')\n",
    "plt.ylabel('Posterior Bayes vulnerability')\n",
    "plt.legend()\n",
    "None"
   ]
  },
  {
   "cell_type": "markdown",
   "metadata": {},
   "source": [
    "So we see that $B$ is at least as safe as $A$ for all such priors. But maybe this phenomenon only happens for Bayes vulnerability?\n",
    "\n",
    "Let's test it for a randomly generated gain function $g$."
   ]
  },
  {
   "cell_type": "code",
   "execution_count": 11,
   "metadata": {},
   "outputs": [
    {
     "data": {
      "image/png": "[encoded data removed]",
      "text/plain": [
       "<Figure size 432x288 with 1 Axes>"
      ]
     },
     "metadata": {
      "needs_background": "light"
     },
     "output_type": "display_data"
    }
   ],
   "source": [
    "G = np.random.rand(8,3)    # A random gain function with 8 actions and 3 secrets\n",
    "\n",
    "plt.plot(ps, [measure.g_vuln.posterior(G, get_pi(p), A) for p in ps], label=\"A\")\n",
    "plt.plot(ps, [measure.g_vuln.posterior(G, get_pi(p), B) for p in ps], label=\"B\")\n",
    "plt.xlabel('p')\n",
    "plt.ylabel('Posterior g-vulnerability')\n",
    "plt.legend()\n",
    "None"
   ]
  },
  {
   "cell_type": "markdown",
   "metadata": {},
   "source": [
    "Once again we have the same behaviour, $B$ is at least as safe as $A$.\n",
    "\n",
    "But can we be confident that this is always the case? Indeed we can, because it turns out that $B$ is a __refinement__ of $A$ (written $A \\sqsubseteq B$), as we can verify below:"
   ]
  },
  {
   "cell_type": "code",
   "execution_count": 12,
   "metadata": {},
   "outputs": [
    {
     "name": "stdout",
     "output_type": "stream",
     "text": [
      "Is A refined by B? True\n"
     ]
    }
   ],
   "source": [
    "print(\"Is A refined by B?\", refinement.refined_by(A, B))"
   ]
  },
  {
   "cell_type": "markdown",
   "metadata": {},
   "source": [
    "In fact, we can compute a channel $R$ such that $AR = B$."
   ]
  },
  {
   "cell_type": "code",
   "execution_count": 13,
   "metadata": {},
   "outputs": [
    {
     "name": "stdout",
     "output_type": "stream",
     "text": [
      "Channel R:\n",
      " [[0. 1. 0.]\n",
      " [0. 0. 1.]\n",
      " [1. 0. 0.]\n",
      " [0. 0. 1.]\n",
      " [1. 0. 0.]\n",
      " [0. 1. 0.]]\n",
      "Is AR == B?  True\n"
     ]
    }
   ],
   "source": [
    "R = channel.factorize(B, A)\n",
    "\n",
    "print(\"Channel R:\\n\", R)\n",
    "print(\"Is AR == B? \", np.all(A.dot(R) == B))"
   ]
  },
  {
   "cell_type": "markdown",
   "metadata": {
    "lines_to_next_cell": 2
   },
   "source": [
    "Intuitively, the channel $R$ \"forgets\" the extra information of $A$, transforming it into $B$. Each output `X:Y` of $A$ is mapped to the output `?:Y` of $B$, simply ignoring the information of which door was chosen by the player."
   ]
  }
 ],
 "metadata": {
  "jupytext": {
   "cell_metadata_filter": "-all"
  },
  "kernelspec": {
   "display_name": "Python 3.8.2 64-bit",
   "language": "python",
   "name": "python38264bitd229a35be8814ce385e2274f8fb403aa"
  },
  "language_info": {
   "codemirror_mode": {
    "name": "ipython",
    "version": 3
   },
   "file_extension": ".py",
   "mimetype": "text/x-python",
   "name": "python",
   "nbconvert_exporter": "python",
   "pygments_lexer": "ipython3",
   "version": "3.8.5"
  }
 },
 "nbformat": 4,
 "nbformat_minor": 4
}
